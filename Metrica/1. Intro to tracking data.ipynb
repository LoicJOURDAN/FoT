{
 "cells": [
  {
   "cell_type": "code",
   "execution_count": 1,
   "metadata": {},
   "outputs": [],
   "source": [
    "import Metrica_IO as mio\n",
    "import Metrica_Viz as mviz"
   ]
  },
  {
   "cell_type": "code",
   "execution_count": 2,
   "metadata": {},
   "outputs": [],
   "source": [
    "DATADIR = 'data'\n",
    "game_id = 2"
   ]
  },
  {
   "cell_type": "markdown",
   "metadata": {},
   "source": [
    "# Event data"
   ]
  },
  {
   "cell_type": "code",
   "execution_count": 3,
   "metadata": {},
   "outputs": [],
   "source": [
    "events = mio.read_event_data(DATADIR,game_id)"
   ]
  },
  {
   "cell_type": "code",
   "execution_count": 4,
   "metadata": {},
   "outputs": [
    {
     "data": {
      "text/plain": [
       "PASS              964\n",
       "CHALLENGE         311\n",
       "RECOVERY          248\n",
       "BALL LOST         233\n",
       "SET PIECE          80\n",
       "BALL OUT           49\n",
       "SHOT               24\n",
       "FAULT RECEIVED     20\n",
       "CARD                6\n",
       "Name: Type, dtype: int64"
      ]
     },
     "execution_count": 4,
     "metadata": {},
     "output_type": "execute_result"
    }
   ],
   "source": [
    "events['Type'].value_counts()"
   ]
  },
  {
   "cell_type": "code",
   "execution_count": 5,
   "metadata": {},
   "outputs": [
    {
     "data": {
      "text/html": [
       "<div>\n",
       "<style scoped>\n",
       "    .dataframe tbody tr th:only-of-type {\n",
       "        vertical-align: middle;\n",
       "    }\n",
       "\n",
       "    .dataframe tbody tr th {\n",
       "        vertical-align: top;\n",
       "    }\n",
       "\n",
       "    .dataframe thead th {\n",
       "        text-align: right;\n",
       "    }\n",
       "</style>\n",
       "<table border=\"1\" class=\"dataframe\">\n",
       "  <thead>\n",
       "    <tr style=\"text-align: right;\">\n",
       "      <th></th>\n",
       "      <th>Team</th>\n",
       "      <th>Type</th>\n",
       "      <th>Subtype</th>\n",
       "      <th>Period</th>\n",
       "      <th>Start Frame</th>\n",
       "      <th>Start Time [s]</th>\n",
       "      <th>End Frame</th>\n",
       "      <th>End Time [s]</th>\n",
       "      <th>From</th>\n",
       "      <th>To</th>\n",
       "      <th>Start X</th>\n",
       "      <th>Start Y</th>\n",
       "      <th>End X</th>\n",
       "      <th>End Y</th>\n",
       "    </tr>\n",
       "  </thead>\n",
       "  <tbody>\n",
       "    <tr>\n",
       "      <th>0</th>\n",
       "      <td>Away</td>\n",
       "      <td>SET PIECE</td>\n",
       "      <td>KICK OFF</td>\n",
       "      <td>1</td>\n",
       "      <td>51</td>\n",
       "      <td>2.04</td>\n",
       "      <td>51</td>\n",
       "      <td>2.04</td>\n",
       "      <td>Player23</td>\n",
       "      <td>NaN</td>\n",
       "      <td>NaN</td>\n",
       "      <td>NaN</td>\n",
       "      <td>NaN</td>\n",
       "      <td>NaN</td>\n",
       "    </tr>\n",
       "    <tr>\n",
       "      <th>1</th>\n",
       "      <td>Away</td>\n",
       "      <td>PASS</td>\n",
       "      <td>NaN</td>\n",
       "      <td>1</td>\n",
       "      <td>51</td>\n",
       "      <td>2.04</td>\n",
       "      <td>87</td>\n",
       "      <td>3.48</td>\n",
       "      <td>Player23</td>\n",
       "      <td>Player20</td>\n",
       "      <td>0.50</td>\n",
       "      <td>0.50</td>\n",
       "      <td>0.40</td>\n",
       "      <td>0.51</td>\n",
       "    </tr>\n",
       "    <tr>\n",
       "      <th>2</th>\n",
       "      <td>Away</td>\n",
       "      <td>PASS</td>\n",
       "      <td>NaN</td>\n",
       "      <td>1</td>\n",
       "      <td>146</td>\n",
       "      <td>5.84</td>\n",
       "      <td>186</td>\n",
       "      <td>7.44</td>\n",
       "      <td>Player20</td>\n",
       "      <td>Player18</td>\n",
       "      <td>0.43</td>\n",
       "      <td>0.50</td>\n",
       "      <td>0.44</td>\n",
       "      <td>0.22</td>\n",
       "    </tr>\n",
       "    <tr>\n",
       "      <th>3</th>\n",
       "      <td>Away</td>\n",
       "      <td>PASS</td>\n",
       "      <td>NaN</td>\n",
       "      <td>1</td>\n",
       "      <td>248</td>\n",
       "      <td>9.92</td>\n",
       "      <td>283</td>\n",
       "      <td>11.32</td>\n",
       "      <td>Player18</td>\n",
       "      <td>Player17</td>\n",
       "      <td>0.47</td>\n",
       "      <td>0.19</td>\n",
       "      <td>0.31</td>\n",
       "      <td>0.28</td>\n",
       "    </tr>\n",
       "    <tr>\n",
       "      <th>4</th>\n",
       "      <td>Away</td>\n",
       "      <td>PASS</td>\n",
       "      <td>NaN</td>\n",
       "      <td>1</td>\n",
       "      <td>316</td>\n",
       "      <td>12.64</td>\n",
       "      <td>346</td>\n",
       "      <td>13.84</td>\n",
       "      <td>Player17</td>\n",
       "      <td>Player16</td>\n",
       "      <td>0.29</td>\n",
       "      <td>0.32</td>\n",
       "      <td>0.26</td>\n",
       "      <td>0.58</td>\n",
       "    </tr>\n",
       "    <tr>\n",
       "      <th>...</th>\n",
       "      <td>...</td>\n",
       "      <td>...</td>\n",
       "      <td>...</td>\n",
       "      <td>...</td>\n",
       "      <td>...</td>\n",
       "      <td>...</td>\n",
       "      <td>...</td>\n",
       "      <td>...</td>\n",
       "      <td>...</td>\n",
       "      <td>...</td>\n",
       "      <td>...</td>\n",
       "      <td>...</td>\n",
       "      <td>...</td>\n",
       "      <td>...</td>\n",
       "    </tr>\n",
       "    <tr>\n",
       "      <th>1930</th>\n",
       "      <td>Away</td>\n",
       "      <td>BALL LOST</td>\n",
       "      <td>INTERCEPTION</td>\n",
       "      <td>2</td>\n",
       "      <td>140122</td>\n",
       "      <td>5604.88</td>\n",
       "      <td>140183</td>\n",
       "      <td>5607.32</td>\n",
       "      <td>Player21</td>\n",
       "      <td>NaN</td>\n",
       "      <td>0.54</td>\n",
       "      <td>0.77</td>\n",
       "      <td>0.29</td>\n",
       "      <td>0.24</td>\n",
       "    </tr>\n",
       "    <tr>\n",
       "      <th>1931</th>\n",
       "      <td>Home</td>\n",
       "      <td>CHALLENGE</td>\n",
       "      <td>AERIAL-LOST</td>\n",
       "      <td>2</td>\n",
       "      <td>140180</td>\n",
       "      <td>5607.20</td>\n",
       "      <td>140180</td>\n",
       "      <td>5607.20</td>\n",
       "      <td>Player1</td>\n",
       "      <td>NaN</td>\n",
       "      <td>0.31</td>\n",
       "      <td>0.30</td>\n",
       "      <td>NaN</td>\n",
       "      <td>NaN</td>\n",
       "    </tr>\n",
       "    <tr>\n",
       "      <th>1932</th>\n",
       "      <td>Away</td>\n",
       "      <td>CHALLENGE</td>\n",
       "      <td>AERIAL-LOST</td>\n",
       "      <td>2</td>\n",
       "      <td>140183</td>\n",
       "      <td>5607.32</td>\n",
       "      <td>140183</td>\n",
       "      <td>5607.32</td>\n",
       "      <td>Player24</td>\n",
       "      <td>NaN</td>\n",
       "      <td>0.32</td>\n",
       "      <td>0.30</td>\n",
       "      <td>NaN</td>\n",
       "      <td>NaN</td>\n",
       "    </tr>\n",
       "    <tr>\n",
       "      <th>1933</th>\n",
       "      <td>Home</td>\n",
       "      <td>RECOVERY</td>\n",
       "      <td>NaN</td>\n",
       "      <td>2</td>\n",
       "      <td>140211</td>\n",
       "      <td>5608.44</td>\n",
       "      <td>140211</td>\n",
       "      <td>5608.44</td>\n",
       "      <td>Player12</td>\n",
       "      <td>NaN</td>\n",
       "      <td>0.34</td>\n",
       "      <td>0.32</td>\n",
       "      <td>NaN</td>\n",
       "      <td>NaN</td>\n",
       "    </tr>\n",
       "    <tr>\n",
       "      <th>1934</th>\n",
       "      <td>Home</td>\n",
       "      <td>BALL OUT</td>\n",
       "      <td>CLEARANCE</td>\n",
       "      <td>2</td>\n",
       "      <td>140265</td>\n",
       "      <td>5610.60</td>\n",
       "      <td>140298</td>\n",
       "      <td>5611.92</td>\n",
       "      <td>Player12</td>\n",
       "      <td>NaN</td>\n",
       "      <td>0.33</td>\n",
       "      <td>0.16</td>\n",
       "      <td>0.41</td>\n",
       "      <td>-0.04</td>\n",
       "    </tr>\n",
       "  </tbody>\n",
       "</table>\n",
       "<p>1935 rows × 14 columns</p>\n",
       "</div>"
      ],
      "text/plain": [
       "      Team       Type       Subtype  Period  Start Frame  Start Time [s]  \\\n",
       "0     Away  SET PIECE      KICK OFF       1           51            2.04   \n",
       "1     Away       PASS           NaN       1           51            2.04   \n",
       "2     Away       PASS           NaN       1          146            5.84   \n",
       "3     Away       PASS           NaN       1          248            9.92   \n",
       "4     Away       PASS           NaN       1          316           12.64   \n",
       "...    ...        ...           ...     ...          ...             ...   \n",
       "1930  Away  BALL LOST  INTERCEPTION       2       140122         5604.88   \n",
       "1931  Home  CHALLENGE   AERIAL-LOST       2       140180         5607.20   \n",
       "1932  Away  CHALLENGE   AERIAL-LOST       2       140183         5607.32   \n",
       "1933  Home   RECOVERY           NaN       2       140211         5608.44   \n",
       "1934  Home   BALL OUT     CLEARANCE       2       140265         5610.60   \n",
       "\n",
       "      End Frame  End Time [s]      From        To  Start X  Start Y  End X  \\\n",
       "0            51          2.04  Player23       NaN      NaN      NaN    NaN   \n",
       "1            87          3.48  Player23  Player20     0.50     0.50   0.40   \n",
       "2           186          7.44  Player20  Player18     0.43     0.50   0.44   \n",
       "3           283         11.32  Player18  Player17     0.47     0.19   0.31   \n",
       "4           346         13.84  Player17  Player16     0.29     0.32   0.26   \n",
       "...         ...           ...       ...       ...      ...      ...    ...   \n",
       "1930     140183       5607.32  Player21       NaN     0.54     0.77   0.29   \n",
       "1931     140180       5607.20   Player1       NaN     0.31     0.30    NaN   \n",
       "1932     140183       5607.32  Player24       NaN     0.32     0.30    NaN   \n",
       "1933     140211       5608.44  Player12       NaN     0.34     0.32    NaN   \n",
       "1934     140298       5611.92  Player12       NaN     0.33     0.16   0.41   \n",
       "\n",
       "      End Y  \n",
       "0       NaN  \n",
       "1      0.51  \n",
       "2      0.22  \n",
       "3      0.28  \n",
       "4      0.58  \n",
       "...     ...  \n",
       "1930   0.24  \n",
       "1931    NaN  \n",
       "1932    NaN  \n",
       "1933    NaN  \n",
       "1934  -0.04  \n",
       "\n",
       "[1935 rows x 14 columns]"
      ]
     },
     "execution_count": 5,
     "metadata": {},
     "output_type": "execute_result"
    }
   ],
   "source": [
    "events"
   ]
  },
  {
   "cell_type": "markdown",
   "metadata": {},
   "source": [
    "The first thing to focus on is that the coordinates are between 0 and 1. \n",
    "\n",
    "It would be easier to change it in meters now. In fact, it will help to analyse speed, shot distance etc with understandable data."
   ]
  },
  {
   "cell_type": "code",
   "execution_count": 6,
   "metadata": {},
   "outputs": [],
   "source": [
    "events = mio.to_metric_coordinates(events)"
   ]
  },
  {
   "cell_type": "markdown",
   "metadata": {},
   "source": [
    "Adding a 'minute' feature"
   ]
  },
  {
   "cell_type": "code",
   "execution_count": 7,
   "metadata": {},
   "outputs": [],
   "source": [
    "events['Minute'] = events['Start Time [s]']/60"
   ]
  },
  {
   "cell_type": "markdown",
   "metadata": {},
   "source": [
    "Let's try to separate data by team, type of event etc."
   ]
  },
  {
   "cell_type": "code",
   "execution_count": 8,
   "metadata": {},
   "outputs": [],
   "source": [
    "home_events = events[events['Team'] == 'Home']\n",
    "away_events = events[events['Team'] == 'Away']"
   ]
  },
  {
   "cell_type": "code",
   "execution_count": 9,
   "metadata": {},
   "outputs": [
    {
     "name": "stdout",
     "output_type": "stream",
     "text": [
      "PASS              543\n",
      "CHALLENGE         160\n",
      "RECOVERY          135\n",
      "BALL LOST         120\n",
      "SET PIECE          34\n",
      "BALL OUT           27\n",
      "SHOT               13\n",
      "FAULT RECEIVED      9\n",
      "CARD                3\n",
      "Name: Type, dtype: int64 PASS              421\n",
      "CHALLENGE         151\n",
      "RECOVERY          113\n",
      "BALL LOST         113\n",
      "SET PIECE          46\n",
      "BALL OUT           22\n",
      "SHOT               11\n",
      "FAULT RECEIVED     11\n",
      "CARD                3\n",
      "Name: Type, dtype: int64\n"
     ]
    }
   ],
   "source": [
    "print(home_events['Type'].value_counts(),away_events['Type'].value_counts())"
   ]
  },
  {
   "cell_type": "markdown",
   "metadata": {},
   "source": [
    "At the first sight it seems that the game was quite close. All events are quite similar."
   ]
  },
  {
   "cell_type": "markdown",
   "metadata": {},
   "source": [
    "### Shots"
   ]
  },
  {
   "cell_type": "code",
   "execution_count": 10,
   "metadata": {},
   "outputs": [],
   "source": [
    "shots = events[events['Type'] == 'SHOT']\n",
    "home_shots = home_events[home_events.Type == 'SHOT']\n",
    "away_shots = away_events[away_events.Type == 'SHOT']"
   ]
  },
  {
   "cell_type": "code",
   "execution_count": 11,
   "metadata": {},
   "outputs": [
    {
     "data": {
      "text/plain": [
       "HEAD-OFF TARGET-OUT    4\n",
       "ON TARGET-SAVED        4\n",
       "OFF TARGET-OUT         2\n",
       "ON TARGET-GOAL         2\n",
       "HEAD-ON TARGET-GOAL    1\n",
       "Name: Subtype, dtype: int64"
      ]
     },
     "execution_count": 11,
     "metadata": {},
     "output_type": "execute_result"
    }
   ],
   "source": [
    "home_shots['Subtype'].value_counts()"
   ]
  },
  {
   "cell_type": "code",
   "execution_count": 12,
   "metadata": {},
   "outputs": [
    {
     "data": {
      "text/plain": [
       "OFF TARGET-OUT         3\n",
       "ON TARGET-SAVED        2\n",
       "BLOCKED                2\n",
       "ON TARGET-GOAL         2\n",
       "HEAD-OFF TARGET-OUT    1\n",
       "OFF TARGET-HEAD-OUT    1\n",
       "Name: Subtype, dtype: int64"
      ]
     },
     "execution_count": 12,
     "metadata": {},
     "output_type": "execute_result"
    }
   ],
   "source": [
    "away_shots['Subtype'].value_counts()"
   ]
  },
  {
   "cell_type": "markdown",
   "metadata": {},
   "source": [
    "It seems that the game end up at 3-3."
   ]
  },
  {
   "cell_type": "code",
   "execution_count": 13,
   "metadata": {},
   "outputs": [],
   "source": [
    "home_goals = home_shots[home_shots['Subtype'].str.contains('-GOAL')].copy()\n",
    "away_goal = away_shots[away_shots['Subtype'].str.contains('-GOAL')].copy()"
   ]
  },
  {
   "cell_type": "code",
   "execution_count": 14,
   "metadata": {},
   "outputs": [
    {
     "data": {
      "text/html": [
       "<div>\n",
       "<style scoped>\n",
       "    .dataframe tbody tr th:only-of-type {\n",
       "        vertical-align: middle;\n",
       "    }\n",
       "\n",
       "    .dataframe tbody tr th {\n",
       "        vertical-align: top;\n",
       "    }\n",
       "\n",
       "    .dataframe thead th {\n",
       "        text-align: right;\n",
       "    }\n",
       "</style>\n",
       "<table border=\"1\" class=\"dataframe\">\n",
       "  <thead>\n",
       "    <tr style=\"text-align: right;\">\n",
       "      <th></th>\n",
       "      <th>Team</th>\n",
       "      <th>Type</th>\n",
       "      <th>Subtype</th>\n",
       "      <th>Period</th>\n",
       "      <th>Start Frame</th>\n",
       "      <th>Start Time [s]</th>\n",
       "      <th>End Frame</th>\n",
       "      <th>End Time [s]</th>\n",
       "      <th>From</th>\n",
       "      <th>To</th>\n",
       "      <th>Start X</th>\n",
       "      <th>Start Y</th>\n",
       "      <th>End X</th>\n",
       "      <th>End Y</th>\n",
       "      <th>Minute</th>\n",
       "    </tr>\n",
       "  </thead>\n",
       "  <tbody>\n",
       "    <tr>\n",
       "      <th>198</th>\n",
       "      <td>Home</td>\n",
       "      <td>SHOT</td>\n",
       "      <td>ON TARGET-GOAL</td>\n",
       "      <td>1</td>\n",
       "      <td>12202</td>\n",
       "      <td>488.08</td>\n",
       "      <td>12212</td>\n",
       "      <td>488.48</td>\n",
       "      <td>Player10</td>\n",
       "      <td>NaN</td>\n",
       "      <td>-47.70</td>\n",
       "      <td>-3.40</td>\n",
       "      <td>-54.06</td>\n",
       "      <td>-2.04</td>\n",
       "      <td>8.134667</td>\n",
       "    </tr>\n",
       "    <tr>\n",
       "      <th>1118</th>\n",
       "      <td>Home</td>\n",
       "      <td>SHOT</td>\n",
       "      <td>HEAD-ON TARGET-GOAL</td>\n",
       "      <td>2</td>\n",
       "      <td>73983</td>\n",
       "      <td>2959.32</td>\n",
       "      <td>73995</td>\n",
       "      <td>2959.80</td>\n",
       "      <td>Player9</td>\n",
       "      <td>NaN</td>\n",
       "      <td>47.70</td>\n",
       "      <td>-1.36</td>\n",
       "      <td>54.06</td>\n",
       "      <td>-2.04</td>\n",
       "      <td>49.322000</td>\n",
       "    </tr>\n",
       "    <tr>\n",
       "      <th>1723</th>\n",
       "      <td>Home</td>\n",
       "      <td>SHOT</td>\n",
       "      <td>ON TARGET-GOAL</td>\n",
       "      <td>2</td>\n",
       "      <td>121027</td>\n",
       "      <td>4841.08</td>\n",
       "      <td>121055</td>\n",
       "      <td>4842.20</td>\n",
       "      <td>Player12</td>\n",
       "      <td>NaN</td>\n",
       "      <td>30.74</td>\n",
       "      <td>-5.44</td>\n",
       "      <td>54.06</td>\n",
       "      <td>-2.72</td>\n",
       "      <td>80.684667</td>\n",
       "    </tr>\n",
       "  </tbody>\n",
       "</table>\n",
       "</div>"
      ],
      "text/plain": [
       "      Team  Type              Subtype  Period  Start Frame  Start Time [s]  \\\n",
       "198   Home  SHOT       ON TARGET-GOAL       1        12202          488.08   \n",
       "1118  Home  SHOT  HEAD-ON TARGET-GOAL       2        73983         2959.32   \n",
       "1723  Home  SHOT       ON TARGET-GOAL       2       121027         4841.08   \n",
       "\n",
       "      End Frame  End Time [s]      From   To  Start X  Start Y  End X  End Y  \\\n",
       "198       12212        488.48  Player10  NaN   -47.70    -3.40 -54.06  -2.04   \n",
       "1118      73995       2959.80   Player9  NaN    47.70    -1.36  54.06  -2.04   \n",
       "1723     121055       4842.20  Player12  NaN    30.74    -5.44  54.06  -2.72   \n",
       "\n",
       "         Minute  \n",
       "198    8.134667  \n",
       "1118  49.322000  \n",
       "1723  80.684667  "
      ]
     },
     "execution_count": 14,
     "metadata": {},
     "output_type": "execute_result"
    }
   ],
   "source": [
    "home_goals"
   ]
  },
  {
   "cell_type": "markdown",
   "metadata": {},
   "source": [
    "### Vizualisation"
   ]
  },
  {
   "cell_type": "code",
   "execution_count": 15,
   "metadata": {},
   "outputs": [
    {
     "data": {
      "text/plain": [
       "Text(-47.7, -3.400000000000003, '')"
      ]
     },
     "execution_count": 15,
     "metadata": {},
     "output_type": "execute_result"
    },
    {
     "data": {
      "image/png": "[encoded data removed]",
      "text/plain": [
       "<Figure size 864x576 with 1 Axes>"
      ]
     },
     "metadata": {},
     "output_type": "display_data"
    }
   ],
   "source": [
    "fig, ax = mviz.plot_pitch()\n",
    "ax.plot(events.loc[198]['Start X'],events.loc[198]['Start Y'], 'ro')\n",
    "ax.annotate(\"\", xy = events.loc[198][['End X', 'End Y']], xytext = events.loc[198][['Start X', 'Start Y']], alpha=0.6, arrowprops=dict(arrowstyle=\"->\",color='r'))"
   ]
  },
  {
   "cell_type": "markdown",
   "metadata": {},
   "source": [
    "Another interesting thing is to look as previous events that led to the goal. We can do that thank to the *plot_events* function."
   ]
  },
  {
   "cell_type": "code",
   "execution_count": 16,
   "metadata": {},
   "outputs": [
    {
     "data": {
      "text/plain": [
       "(<Figure size 864x576 with 1 Axes>,\n",
       " <matplotlib.axes._subplots.AxesSubplot at 0x1729a4ab3c8>)"
      ]
     },
     "execution_count": 16,
     "metadata": {},
     "output_type": "execute_result"
    },
    {
     "data": {
      "image/png": "[encoded data removed]",
      "text/plain": [
       "<Figure size 864x576 with 1 Axes>"
      ]
     },
     "metadata": {},
     "output_type": "display_data"
    }
   ],
   "source": [
    "mviz.plot_events( events.loc[190:198], indicators = ['Marker', 'Arrow'], annotate = True)"
   ]
  },
  {
   "cell_type": "markdown",
   "metadata": {},
   "source": [
    "# Tracking data"
   ]
  },
  {
   "cell_type": "code",
   "execution_count": 17,
   "metadata": {},
   "outputs": [
    {
     "name": "stdout",
     "output_type": "stream",
     "text": [
      "Reading team: home\n",
      "Reading team: away\n"
     ]
    }
   ],
   "source": [
    "tracking_home = mio.tracking_data(DATADIR, game_id, 'Home')\n",
    "tracking_away = mio.tracking_data(DATADIR, game_id, 'Away')"
   ]
  },
  {
   "cell_type": "code",
   "execution_count": 52,
   "metadata": {},
   "outputs": [
    {
     "data": {
      "text/html": [
       "<div>\n",
       "<style scoped>\n",
       "    .dataframe tbody tr th:only-of-type {\n",
       "        vertical-align: middle;\n",
       "    }\n",
       "\n",
       "    .dataframe tbody tr th {\n",
       "        vertical-align: top;\n",
       "    }\n",
       "\n",
       "    .dataframe thead th {\n",
       "        text-align: right;\n",
       "    }\n",
       "</style>\n",
       "<table border=\"1\" class=\"dataframe\">\n",
       "  <thead>\n",
       "    <tr style=\"text-align: right;\">\n",
       "      <th></th>\n",
       "      <th>Period</th>\n",
       "      <th>Time [s]</th>\n",
       "      <th>Home_11_x</th>\n",
       "      <th>Home_11_y</th>\n",
       "      <th>Home_1_x</th>\n",
       "      <th>Home_1_y</th>\n",
       "      <th>Home_2_x</th>\n",
       "      <th>Home_2_y</th>\n",
       "      <th>Home_3_x</th>\n",
       "      <th>Home_3_y</th>\n",
       "      <th>...</th>\n",
       "      <th>Home_10_x</th>\n",
       "      <th>Home_10_y</th>\n",
       "      <th>Home_12_x</th>\n",
       "      <th>Home_12_y</th>\n",
       "      <th>Home_13_x</th>\n",
       "      <th>Home_13_y</th>\n",
       "      <th>Home_14_x</th>\n",
       "      <th>Home_14_y</th>\n",
       "      <th>ball_x</th>\n",
       "      <th>ball_y</th>\n",
       "    </tr>\n",
       "    <tr>\n",
       "      <th>Frame</th>\n",
       "      <th></th>\n",
       "      <th></th>\n",
       "      <th></th>\n",
       "      <th></th>\n",
       "      <th></th>\n",
       "      <th></th>\n",
       "      <th></th>\n",
       "      <th></th>\n",
       "      <th></th>\n",
       "      <th></th>\n",
       "      <th></th>\n",
       "      <th></th>\n",
       "      <th></th>\n",
       "      <th></th>\n",
       "      <th></th>\n",
       "      <th></th>\n",
       "      <th></th>\n",
       "      <th></th>\n",
       "      <th></th>\n",
       "      <th></th>\n",
       "      <th></th>\n",
       "    </tr>\n",
       "  </thead>\n",
       "  <tbody>\n",
       "    <tr>\n",
       "      <th>1</th>\n",
       "      <td>1</td>\n",
       "      <td>0.04</td>\n",
       "      <td>46.9315</td>\n",
       "      <td>-0.28084</td>\n",
       "      <td>15.70072</td>\n",
       "      <td>14.5486</td>\n",
       "      <td>18.81712</td>\n",
       "      <td>4.89396</td>\n",
       "      <td>21.07492</td>\n",
       "      <td>-3.81208</td>\n",
       "      <td>...</td>\n",
       "      <td>0.20564</td>\n",
       "      <td>-7.56364</td>\n",
       "      <td>NaN</td>\n",
       "      <td>NaN</td>\n",
       "      <td>NaN</td>\n",
       "      <td>NaN</td>\n",
       "      <td>NaN</td>\n",
       "      <td>NaN</td>\n",
       "      <td>NaN</td>\n",
       "      <td>NaN</td>\n",
       "    </tr>\n",
       "    <tr>\n",
       "      <th>2</th>\n",
       "      <td>1</td>\n",
       "      <td>0.08</td>\n",
       "      <td>46.9315</td>\n",
       "      <td>-0.28084</td>\n",
       "      <td>15.70072</td>\n",
       "      <td>14.5486</td>\n",
       "      <td>18.81712</td>\n",
       "      <td>4.89396</td>\n",
       "      <td>21.07492</td>\n",
       "      <td>-3.81208</td>\n",
       "      <td>...</td>\n",
       "      <td>0.20564</td>\n",
       "      <td>-7.56364</td>\n",
       "      <td>NaN</td>\n",
       "      <td>NaN</td>\n",
       "      <td>NaN</td>\n",
       "      <td>NaN</td>\n",
       "      <td>NaN</td>\n",
       "      <td>NaN</td>\n",
       "      <td>NaN</td>\n",
       "      <td>NaN</td>\n",
       "    </tr>\n",
       "    <tr>\n",
       "      <th>3</th>\n",
       "      <td>1</td>\n",
       "      <td>0.12</td>\n",
       "      <td>46.9315</td>\n",
       "      <td>-0.28084</td>\n",
       "      <td>15.70072</td>\n",
       "      <td>14.5486</td>\n",
       "      <td>18.81712</td>\n",
       "      <td>4.89396</td>\n",
       "      <td>21.07492</td>\n",
       "      <td>-3.81208</td>\n",
       "      <td>...</td>\n",
       "      <td>0.20564</td>\n",
       "      <td>-7.56364</td>\n",
       "      <td>NaN</td>\n",
       "      <td>NaN</td>\n",
       "      <td>NaN</td>\n",
       "      <td>NaN</td>\n",
       "      <td>NaN</td>\n",
       "      <td>NaN</td>\n",
       "      <td>NaN</td>\n",
       "      <td>NaN</td>\n",
       "    </tr>\n",
       "  </tbody>\n",
       "</table>\n",
       "<p>3 rows × 32 columns</p>\n",
       "</div>"
      ],
      "text/plain": [
       "       Period  Time [s]  Home_11_x  Home_11_y  Home_1_x  Home_1_y  Home_2_x  \\\n",
       "Frame                                                                         \n",
       "1           1      0.04    46.9315   -0.28084  15.70072   14.5486  18.81712   \n",
       "2           1      0.08    46.9315   -0.28084  15.70072   14.5486  18.81712   \n",
       "3           1      0.12    46.9315   -0.28084  15.70072   14.5486  18.81712   \n",
       "\n",
       "       Home_2_y  Home_3_x  Home_3_y  ...  Home_10_x  Home_10_y  Home_12_x  \\\n",
       "Frame                                ...                                    \n",
       "1       4.89396  21.07492  -3.81208  ...    0.20564   -7.56364        NaN   \n",
       "2       4.89396  21.07492  -3.81208  ...    0.20564   -7.56364        NaN   \n",
       "3       4.89396  21.07492  -3.81208  ...    0.20564   -7.56364        NaN   \n",
       "\n",
       "       Home_12_y  Home_13_x  Home_13_y  Home_14_x  Home_14_y  ball_x  ball_y  \n",
       "Frame                                                                         \n",
       "1            NaN        NaN        NaN        NaN        NaN     NaN     NaN  \n",
       "2            NaN        NaN        NaN        NaN        NaN     NaN     NaN  \n",
       "3            NaN        NaN        NaN        NaN        NaN     NaN     NaN  \n",
       "\n",
       "[3 rows x 32 columns]"
      ]
     },
     "execution_count": 52,
     "metadata": {},
     "output_type": "execute_result"
    }
   ],
   "source": [
    "tracking_home.head(3)"
   ]
  },
  {
   "cell_type": "code",
   "execution_count": 19,
   "metadata": {},
   "outputs": [
    {
     "data": {
      "text/plain": [
       "Index(['Period', 'Time [s]', 'Home_11_x', 'Home_11_y', 'Home_1_x', 'Home_1_y',\n",
       "       'Home_2_x', 'Home_2_y', 'Home_3_x', 'Home_3_y', 'Home_4_x', 'Home_4_y',\n",
       "       'Home_5_x', 'Home_5_y', 'Home_6_x', 'Home_6_y', 'Home_7_x', 'Home_7_y',\n",
       "       'Home_8_x', 'Home_8_y', 'Home_9_x', 'Home_9_y', 'Home_10_x',\n",
       "       'Home_10_y', 'Home_12_x', 'Home_12_y', 'Home_13_x', 'Home_13_y',\n",
       "       'Home_14_x', 'Home_14_y', 'ball_x', 'ball_y'],\n",
       "      dtype='object')"
      ]
     },
     "execution_count": 19,
     "metadata": {},
     "output_type": "execute_result"
    }
   ],
   "source": [
    "tracking_home.columns"
   ]
  },
  {
   "cell_type": "code",
   "execution_count": 20,
   "metadata": {},
   "outputs": [],
   "source": [
    "tracking_home = mio.to_metric_coordinates(tracking_home)\n",
    "tracking_away = mio.to_metric_coordinates(tracking_away)"
   ]
  },
  {
   "cell_type": "markdown",
   "metadata": {},
   "source": [
    "### Plotting "
   ]
  },
  {
   "cell_type": "code",
   "execution_count": 21,
   "metadata": {},
   "outputs": [
    {
     "data": {
      "text/plain": [
       "[<matplotlib.lines.Line2D at 0x1729a420fc8>]"
      ]
     },
     "execution_count": 21,
     "metadata": {},
     "output_type": "execute_result"
    },
    {
     "data": {
      "image/png": "[encoded data removed]",
      "text/plain": [
       "<Figure size 864x576 with 1 Axes>"
      ]
     },
     "metadata": {},
     "output_type": "display_data"
    }
   ],
   "source": [
    "fig, ax = mviz.plot_pitch(field_color = 'white')\n",
    "ax.plot(tracking_home['Home_1_x'].iloc[:1500],tracking_home['Home_1_y'].iloc[:1500])\n",
    "ax.plot(tracking_home['Home_2_x'].iloc[:1500],tracking_home['Home_2_y'].iloc[:1500])\n",
    "ax.plot(tracking_home['Home_11_x'].iloc[:1500],tracking_home['Home_11_y'].iloc[:1500])# Goal keeper"
   ]
  },
  {
   "cell_type": "markdown",
   "metadata": {},
   "source": [
    "Frame is the key between tracking and events. It is the index of the tracking data."
   ]
  },
  {
   "cell_type": "markdown",
   "metadata": {},
   "source": [
    "### Positions"
   ]
  },
  {
   "cell_type": "markdown",
   "metadata": {},
   "source": [
    "#### Kick-off"
   ]
  },
  {
   "cell_type": "code",
   "execution_count": 22,
   "metadata": {},
   "outputs": [
    {
     "data": {
      "image/png": "[encoded data removed]",
      "text/plain": [
       "<Figure size 864x576 with 1 Axes>"
      ]
     },
     "metadata": {},
     "output_type": "display_data"
    }
   ],
   "source": [
    "fig , ax = mviz.plot_frame( tracking_home.loc[51], tracking_away.loc[51])"
   ]
  },
  {
   "cell_type": "markdown",
   "metadata": {},
   "source": [
    "#### Goals"
   ]
  },
  {
   "cell_type": "code",
   "execution_count": 23,
   "metadata": {},
   "outputs": [
    {
     "data": {
      "text/plain": [
       "(<Figure size 864x576 with 1 Axes>,\n",
       " <matplotlib.axes._subplots.AxesSubplot at 0x1729a67eb88>)"
      ]
     },
     "execution_count": 23,
     "metadata": {},
     "output_type": "execute_result"
    },
    {
     "data": {
      "image/png": "[encoded data removed]",
      "text/plain": [
       "<Figure size 864x576 with 1 Axes>"
      ]
     },
     "metadata": {},
     "output_type": "display_data"
    }
   ],
   "source": [
    "fig , ax = mviz.plot_events( events.loc[198:198], indicators = ['Marker', 'Arrow'], annotate = True)\n",
    "frame = events.loc[198]['Start Frame']\n",
    "mviz.plot_frame( tracking_home.loc[frame], tracking_away.loc[frame], figax = (fig,ax))"
   ]
  },
  {
   "cell_type": "markdown",
   "metadata": {},
   "source": [
    "# Homework"
   ]
  },
  {
   "cell_type": "markdown",
   "metadata": {},
   "source": [
    "**1.  Plot the passes and shot leading up to the second and third goals in the match**"
   ]
  },
  {
   "cell_type": "code",
   "execution_count": 24,
   "metadata": {},
   "outputs": [
    {
     "data": {
      "text/html": [
       "<div>\n",
       "<style scoped>\n",
       "    .dataframe tbody tr th:only-of-type {\n",
       "        vertical-align: middle;\n",
       "    }\n",
       "\n",
       "    .dataframe tbody tr th {\n",
       "        vertical-align: top;\n",
       "    }\n",
       "\n",
       "    .dataframe thead th {\n",
       "        text-align: right;\n",
       "    }\n",
       "</style>\n",
       "<table border=\"1\" class=\"dataframe\">\n",
       "  <thead>\n",
       "    <tr style=\"text-align: right;\">\n",
       "      <th></th>\n",
       "      <th>Team</th>\n",
       "      <th>Type</th>\n",
       "      <th>Subtype</th>\n",
       "      <th>Period</th>\n",
       "      <th>Start Frame</th>\n",
       "      <th>Start Time [s]</th>\n",
       "      <th>End Frame</th>\n",
       "      <th>End Time [s]</th>\n",
       "      <th>From</th>\n",
       "      <th>To</th>\n",
       "      <th>Start X</th>\n",
       "      <th>Start Y</th>\n",
       "      <th>End X</th>\n",
       "      <th>End Y</th>\n",
       "      <th>Minute</th>\n",
       "    </tr>\n",
       "  </thead>\n",
       "  <tbody>\n",
       "    <tr>\n",
       "      <th>198</th>\n",
       "      <td>Home</td>\n",
       "      <td>SHOT</td>\n",
       "      <td>ON TARGET-GOAL</td>\n",
       "      <td>1</td>\n",
       "      <td>12202</td>\n",
       "      <td>488.08</td>\n",
       "      <td>12212</td>\n",
       "      <td>488.48</td>\n",
       "      <td>Player10</td>\n",
       "      <td>NaN</td>\n",
       "      <td>-47.70</td>\n",
       "      <td>-3.40</td>\n",
       "      <td>-54.06</td>\n",
       "      <td>-2.04</td>\n",
       "      <td>8.134667</td>\n",
       "    </tr>\n",
       "    <tr>\n",
       "      <th>823</th>\n",
       "      <td>Away</td>\n",
       "      <td>SHOT</td>\n",
       "      <td>ON TARGET-GOAL</td>\n",
       "      <td>1</td>\n",
       "      <td>53049</td>\n",
       "      <td>2121.96</td>\n",
       "      <td>53075</td>\n",
       "      <td>2123.00</td>\n",
       "      <td>Player24</td>\n",
       "      <td>NaN</td>\n",
       "      <td>44.52</td>\n",
       "      <td>2.72</td>\n",
       "      <td>54.06</td>\n",
       "      <td>1.36</td>\n",
       "      <td>35.366000</td>\n",
       "    </tr>\n",
       "    <tr>\n",
       "      <th>1118</th>\n",
       "      <td>Home</td>\n",
       "      <td>SHOT</td>\n",
       "      <td>HEAD-ON TARGET-GOAL</td>\n",
       "      <td>2</td>\n",
       "      <td>73983</td>\n",
       "      <td>2959.32</td>\n",
       "      <td>73995</td>\n",
       "      <td>2959.80</td>\n",
       "      <td>Player9</td>\n",
       "      <td>NaN</td>\n",
       "      <td>47.70</td>\n",
       "      <td>-1.36</td>\n",
       "      <td>54.06</td>\n",
       "      <td>-2.04</td>\n",
       "      <td>49.322000</td>\n",
       "    </tr>\n",
       "    <tr>\n",
       "      <th>1671</th>\n",
       "      <td>Away</td>\n",
       "      <td>SHOT</td>\n",
       "      <td>ON TARGET-GOAL</td>\n",
       "      <td>2</td>\n",
       "      <td>115009</td>\n",
       "      <td>4600.36</td>\n",
       "      <td>115024</td>\n",
       "      <td>4600.96</td>\n",
       "      <td>Player20</td>\n",
       "      <td>NaN</td>\n",
       "      <td>-40.28</td>\n",
       "      <td>-1.36</td>\n",
       "      <td>-55.12</td>\n",
       "      <td>-2.72</td>\n",
       "      <td>76.672667</td>\n",
       "    </tr>\n",
       "    <tr>\n",
       "      <th>1723</th>\n",
       "      <td>Home</td>\n",
       "      <td>SHOT</td>\n",
       "      <td>ON TARGET-GOAL</td>\n",
       "      <td>2</td>\n",
       "      <td>121027</td>\n",
       "      <td>4841.08</td>\n",
       "      <td>121055</td>\n",
       "      <td>4842.20</td>\n",
       "      <td>Player12</td>\n",
       "      <td>NaN</td>\n",
       "      <td>30.74</td>\n",
       "      <td>-5.44</td>\n",
       "      <td>54.06</td>\n",
       "      <td>-2.72</td>\n",
       "      <td>80.684667</td>\n",
       "    </tr>\n",
       "  </tbody>\n",
       "</table>\n",
       "</div>"
      ],
      "text/plain": [
       "      Team  Type              Subtype  Period  Start Frame  Start Time [s]  \\\n",
       "198   Home  SHOT       ON TARGET-GOAL       1        12202          488.08   \n",
       "823   Away  SHOT       ON TARGET-GOAL       1        53049         2121.96   \n",
       "1118  Home  SHOT  HEAD-ON TARGET-GOAL       2        73983         2959.32   \n",
       "1671  Away  SHOT       ON TARGET-GOAL       2       115009         4600.36   \n",
       "1723  Home  SHOT       ON TARGET-GOAL       2       121027         4841.08   \n",
       "\n",
       "      End Frame  End Time [s]      From   To  Start X  Start Y  End X  End Y  \\\n",
       "198       12212        488.48  Player10  NaN   -47.70    -3.40 -54.06  -2.04   \n",
       "823       53075       2123.00  Player24  NaN    44.52     2.72  54.06   1.36   \n",
       "1118      73995       2959.80   Player9  NaN    47.70    -1.36  54.06  -2.04   \n",
       "1671     115024       4600.96  Player20  NaN   -40.28    -1.36 -55.12  -2.72   \n",
       "1723     121055       4842.20  Player12  NaN    30.74    -5.44  54.06  -2.72   \n",
       "\n",
       "         Minute  \n",
       "198    8.134667  \n",
       "823   35.366000  \n",
       "1118  49.322000  \n",
       "1671  76.672667  \n",
       "1723  80.684667  "
      ]
     },
     "execution_count": 24,
     "metadata": {},
     "output_type": "execute_result"
    }
   ],
   "source": [
    "shots[shots['Subtype'].str.contains('-GOAL')].copy()"
   ]
  },
  {
   "cell_type": "markdown",
   "metadata": {},
   "source": [
    "The second goal is at the index 823 and the third at 1118."
   ]
  },
  {
   "cell_type": "markdown",
   "metadata": {},
   "source": [
    "Lets look at the previous events for the second goal"
   ]
  },
  {
   "cell_type": "code",
   "execution_count": 25,
   "metadata": {},
   "outputs": [
    {
     "data": {
      "text/html": [
       "<div>\n",
       "<style scoped>\n",
       "    .dataframe tbody tr th:only-of-type {\n",
       "        vertical-align: middle;\n",
       "    }\n",
       "\n",
       "    .dataframe tbody tr th {\n",
       "        vertical-align: top;\n",
       "    }\n",
       "\n",
       "    .dataframe thead th {\n",
       "        text-align: right;\n",
       "    }\n",
       "</style>\n",
       "<table border=\"1\" class=\"dataframe\">\n",
       "  <thead>\n",
       "    <tr style=\"text-align: right;\">\n",
       "      <th></th>\n",
       "      <th>Team</th>\n",
       "      <th>Type</th>\n",
       "      <th>Subtype</th>\n",
       "      <th>Period</th>\n",
       "      <th>Start Frame</th>\n",
       "      <th>Start Time [s]</th>\n",
       "      <th>End Frame</th>\n",
       "      <th>End Time [s]</th>\n",
       "      <th>From</th>\n",
       "      <th>To</th>\n",
       "      <th>Start X</th>\n",
       "      <th>Start Y</th>\n",
       "      <th>End X</th>\n",
       "      <th>End Y</th>\n",
       "      <th>Minute</th>\n",
       "    </tr>\n",
       "  </thead>\n",
       "  <tbody>\n",
       "    <tr>\n",
       "      <th>815</th>\n",
       "      <td>Home</td>\n",
       "      <td>BALL LOST</td>\n",
       "      <td>HEAD</td>\n",
       "      <td>1</td>\n",
       "      <td>52692</td>\n",
       "      <td>2107.68</td>\n",
       "      <td>52757</td>\n",
       "      <td>2110.28</td>\n",
       "      <td>Player10</td>\n",
       "      <td>NaN</td>\n",
       "      <td>0.00</td>\n",
       "      <td>6.80</td>\n",
       "      <td>-3.18</td>\n",
       "      <td>23.12</td>\n",
       "      <td>35.128000</td>\n",
       "    </tr>\n",
       "    <tr>\n",
       "      <th>816</th>\n",
       "      <td>Away</td>\n",
       "      <td>CHALLENGE</td>\n",
       "      <td>AERIAL-WON</td>\n",
       "      <td>1</td>\n",
       "      <td>52694</td>\n",
       "      <td>2107.76</td>\n",
       "      <td>52694</td>\n",
       "      <td>2107.76</td>\n",
       "      <td>Player17</td>\n",
       "      <td>NaN</td>\n",
       "      <td>-1.06</td>\n",
       "      <td>6.80</td>\n",
       "      <td>NaN</td>\n",
       "      <td>NaN</td>\n",
       "      <td>35.129333</td>\n",
       "    </tr>\n",
       "    <tr>\n",
       "      <th>817</th>\n",
       "      <td>Away</td>\n",
       "      <td>RECOVERY</td>\n",
       "      <td>INTERCEPTION</td>\n",
       "      <td>1</td>\n",
       "      <td>52694</td>\n",
       "      <td>2107.76</td>\n",
       "      <td>52694</td>\n",
       "      <td>2107.76</td>\n",
       "      <td>Player17</td>\n",
       "      <td>NaN</td>\n",
       "      <td>-1.06</td>\n",
       "      <td>6.80</td>\n",
       "      <td>NaN</td>\n",
       "      <td>NaN</td>\n",
       "      <td>35.129333</td>\n",
       "    </tr>\n",
       "    <tr>\n",
       "      <th>818</th>\n",
       "      <td>Away</td>\n",
       "      <td>PASS</td>\n",
       "      <td>HEAD</td>\n",
       "      <td>1</td>\n",
       "      <td>52696</td>\n",
       "      <td>2107.84</td>\n",
       "      <td>52746</td>\n",
       "      <td>2109.84</td>\n",
       "      <td>Player17</td>\n",
       "      <td>Player18</td>\n",
       "      <td>-1.06</td>\n",
       "      <td>7.48</td>\n",
       "      <td>-5.30</td>\n",
       "      <td>18.36</td>\n",
       "      <td>35.130667</td>\n",
       "    </tr>\n",
       "    <tr>\n",
       "      <th>819</th>\n",
       "      <td>Away</td>\n",
       "      <td>PASS</td>\n",
       "      <td>NaN</td>\n",
       "      <td>1</td>\n",
       "      <td>52784</td>\n",
       "      <td>2111.36</td>\n",
       "      <td>52807</td>\n",
       "      <td>2112.28</td>\n",
       "      <td>Player18</td>\n",
       "      <td>Player21</td>\n",
       "      <td>-3.18</td>\n",
       "      <td>22.44</td>\n",
       "      <td>1.06</td>\n",
       "      <td>12.24</td>\n",
       "      <td>35.189333</td>\n",
       "    </tr>\n",
       "    <tr>\n",
       "      <th>820</th>\n",
       "      <td>Away</td>\n",
       "      <td>PASS</td>\n",
       "      <td>NaN</td>\n",
       "      <td>1</td>\n",
       "      <td>52871</td>\n",
       "      <td>2114.84</td>\n",
       "      <td>52936</td>\n",
       "      <td>2117.44</td>\n",
       "      <td>Player21</td>\n",
       "      <td>Player19</td>\n",
       "      <td>2.12</td>\n",
       "      <td>12.92</td>\n",
       "      <td>30.74</td>\n",
       "      <td>-26.52</td>\n",
       "      <td>35.247333</td>\n",
       "    </tr>\n",
       "    <tr>\n",
       "      <th>821</th>\n",
       "      <td>Away</td>\n",
       "      <td>PASS</td>\n",
       "      <td>NaN</td>\n",
       "      <td>1</td>\n",
       "      <td>52941</td>\n",
       "      <td>2117.64</td>\n",
       "      <td>52971</td>\n",
       "      <td>2118.84</td>\n",
       "      <td>Player19</td>\n",
       "      <td>Player23</td>\n",
       "      <td>30.74</td>\n",
       "      <td>-27.20</td>\n",
       "      <td>37.10</td>\n",
       "      <td>-15.64</td>\n",
       "      <td>35.294000</td>\n",
       "    </tr>\n",
       "    <tr>\n",
       "      <th>822</th>\n",
       "      <td>Away</td>\n",
       "      <td>PASS</td>\n",
       "      <td>NaN</td>\n",
       "      <td>1</td>\n",
       "      <td>53027</td>\n",
       "      <td>2121.08</td>\n",
       "      <td>53045</td>\n",
       "      <td>2121.80</td>\n",
       "      <td>Player23</td>\n",
       "      <td>Player24</td>\n",
       "      <td>41.34</td>\n",
       "      <td>-9.52</td>\n",
       "      <td>44.52</td>\n",
       "      <td>2.72</td>\n",
       "      <td>35.351333</td>\n",
       "    </tr>\n",
       "    <tr>\n",
       "      <th>823</th>\n",
       "      <td>Away</td>\n",
       "      <td>SHOT</td>\n",
       "      <td>ON TARGET-GOAL</td>\n",
       "      <td>1</td>\n",
       "      <td>53049</td>\n",
       "      <td>2121.96</td>\n",
       "      <td>53075</td>\n",
       "      <td>2123.00</td>\n",
       "      <td>Player24</td>\n",
       "      <td>NaN</td>\n",
       "      <td>44.52</td>\n",
       "      <td>2.72</td>\n",
       "      <td>54.06</td>\n",
       "      <td>1.36</td>\n",
       "      <td>35.366000</td>\n",
       "    </tr>\n",
       "  </tbody>\n",
       "</table>\n",
       "</div>"
      ],
      "text/plain": [
       "     Team       Type         Subtype  Period  Start Frame  Start Time [s]  \\\n",
       "815  Home  BALL LOST            HEAD       1        52692         2107.68   \n",
       "816  Away  CHALLENGE      AERIAL-WON       1        52694         2107.76   \n",
       "817  Away   RECOVERY    INTERCEPTION       1        52694         2107.76   \n",
       "818  Away       PASS            HEAD       1        52696         2107.84   \n",
       "819  Away       PASS             NaN       1        52784         2111.36   \n",
       "820  Away       PASS             NaN       1        52871         2114.84   \n",
       "821  Away       PASS             NaN       1        52941         2117.64   \n",
       "822  Away       PASS             NaN       1        53027         2121.08   \n",
       "823  Away       SHOT  ON TARGET-GOAL       1        53049         2121.96   \n",
       "\n",
       "     End Frame  End Time [s]      From        To  Start X  Start Y  End X  \\\n",
       "815      52757       2110.28  Player10       NaN     0.00     6.80  -3.18   \n",
       "816      52694       2107.76  Player17       NaN    -1.06     6.80    NaN   \n",
       "817      52694       2107.76  Player17       NaN    -1.06     6.80    NaN   \n",
       "818      52746       2109.84  Player17  Player18    -1.06     7.48  -5.30   \n",
       "819      52807       2112.28  Player18  Player21    -3.18    22.44   1.06   \n",
       "820      52936       2117.44  Player21  Player19     2.12    12.92  30.74   \n",
       "821      52971       2118.84  Player19  Player23    30.74   -27.20  37.10   \n",
       "822      53045       2121.80  Player23  Player24    41.34    -9.52  44.52   \n",
       "823      53075       2123.00  Player24       NaN    44.52     2.72  54.06   \n",
       "\n",
       "     End Y     Minute  \n",
       "815  23.12  35.128000  \n",
       "816    NaN  35.129333  \n",
       "817    NaN  35.129333  \n",
       "818  18.36  35.130667  \n",
       "819  12.24  35.189333  \n",
       "820 -26.52  35.247333  \n",
       "821 -15.64  35.294000  \n",
       "822   2.72  35.351333  \n",
       "823   1.36  35.366000  "
      ]
     },
     "execution_count": 25,
     "metadata": {},
     "output_type": "execute_result"
    }
   ],
   "source": [
    "events.loc[815:823]"
   ]
  },
  {
   "cell_type": "markdown",
   "metadata": {},
   "source": [
    "Lets plot all the events from the recovery"
   ]
  },
  {
   "cell_type": "code",
   "execution_count": 26,
   "metadata": {},
   "outputs": [
    {
     "data": {
      "text/plain": [
       "(<Figure size 864x576 with 1 Axes>,\n",
       " <matplotlib.axes._subplots.AxesSubplot at 0x1729ac3f508>)"
      ]
     },
     "execution_count": 26,
     "metadata": {},
     "output_type": "execute_result"
    },
    {
     "data": {
      "image/png": "[encoded data removed]",
      "text/plain": [
       "<Figure size 864x576 with 1 Axes>"
      ]
     },
     "metadata": {},
     "output_type": "display_data"
    }
   ],
   "source": [
    "mviz.plot_events( events.loc[818:823], indicators = ['Marker', 'Arrow'], annotate = True)"
   ]
  },
  {
   "cell_type": "markdown",
   "metadata": {},
   "source": [
    "We do the same for the third goal"
   ]
  },
  {
   "cell_type": "code",
   "execution_count": 27,
   "metadata": {},
   "outputs": [
    {
     "data": {
      "text/html": [
       "<div>\n",
       "<style scoped>\n",
       "    .dataframe tbody tr th:only-of-type {\n",
       "        vertical-align: middle;\n",
       "    }\n",
       "\n",
       "    .dataframe tbody tr th {\n",
       "        vertical-align: top;\n",
       "    }\n",
       "\n",
       "    .dataframe thead th {\n",
       "        text-align: right;\n",
       "    }\n",
       "</style>\n",
       "<table border=\"1\" class=\"dataframe\">\n",
       "  <thead>\n",
       "    <tr style=\"text-align: right;\">\n",
       "      <th></th>\n",
       "      <th>Team</th>\n",
       "      <th>Type</th>\n",
       "      <th>Subtype</th>\n",
       "      <th>Period</th>\n",
       "      <th>Start Frame</th>\n",
       "      <th>Start Time [s]</th>\n",
       "      <th>End Frame</th>\n",
       "      <th>End Time [s]</th>\n",
       "      <th>From</th>\n",
       "      <th>To</th>\n",
       "      <th>Start X</th>\n",
       "      <th>Start Y</th>\n",
       "      <th>End X</th>\n",
       "      <th>End Y</th>\n",
       "      <th>Minute</th>\n",
       "    </tr>\n",
       "  </thead>\n",
       "  <tbody>\n",
       "    <tr>\n",
       "      <th>1110</th>\n",
       "      <td>Home</td>\n",
       "      <td>PASS</td>\n",
       "      <td>NaN</td>\n",
       "      <td>2</td>\n",
       "      <td>73692</td>\n",
       "      <td>2947.68</td>\n",
       "      <td>73731</td>\n",
       "      <td>2949.24</td>\n",
       "      <td>Player5</td>\n",
       "      <td>Player8</td>\n",
       "      <td>4.24</td>\n",
       "      <td>6.12</td>\n",
       "      <td>11.66</td>\n",
       "      <td>25.84</td>\n",
       "      <td>49.128000</td>\n",
       "    </tr>\n",
       "    <tr>\n",
       "      <th>1111</th>\n",
       "      <td>Home</td>\n",
       "      <td>PASS</td>\n",
       "      <td>NaN</td>\n",
       "      <td>2</td>\n",
       "      <td>73813</td>\n",
       "      <td>2952.52</td>\n",
       "      <td>73844</td>\n",
       "      <td>2953.76</td>\n",
       "      <td>Player8</td>\n",
       "      <td>Player9</td>\n",
       "      <td>27.56</td>\n",
       "      <td>21.08</td>\n",
       "      <td>36.04</td>\n",
       "      <td>4.08</td>\n",
       "      <td>49.208667</td>\n",
       "    </tr>\n",
       "    <tr>\n",
       "      <th>1112</th>\n",
       "      <td>Home</td>\n",
       "      <td>CHALLENGE</td>\n",
       "      <td>TACKLE-LOST</td>\n",
       "      <td>2</td>\n",
       "      <td>73854</td>\n",
       "      <td>2954.16</td>\n",
       "      <td>73854</td>\n",
       "      <td>2954.16</td>\n",
       "      <td>Player9</td>\n",
       "      <td>NaN</td>\n",
       "      <td>37.10</td>\n",
       "      <td>4.08</td>\n",
       "      <td>NaN</td>\n",
       "      <td>NaN</td>\n",
       "      <td>49.236000</td>\n",
       "    </tr>\n",
       "    <tr>\n",
       "      <th>1113</th>\n",
       "      <td>Home</td>\n",
       "      <td>BALL LOST</td>\n",
       "      <td>THEFT</td>\n",
       "      <td>2</td>\n",
       "      <td>73854</td>\n",
       "      <td>2954.16</td>\n",
       "      <td>73854</td>\n",
       "      <td>2954.16</td>\n",
       "      <td>Player9</td>\n",
       "      <td>NaN</td>\n",
       "      <td>37.10</td>\n",
       "      <td>4.08</td>\n",
       "      <td>NaN</td>\n",
       "      <td>NaN</td>\n",
       "      <td>49.236000</td>\n",
       "    </tr>\n",
       "    <tr>\n",
       "      <th>1114</th>\n",
       "      <td>Home</td>\n",
       "      <td>RECOVERY</td>\n",
       "      <td>INTERCEPTION</td>\n",
       "      <td>2</td>\n",
       "      <td>73877</td>\n",
       "      <td>2955.08</td>\n",
       "      <td>73877</td>\n",
       "      <td>2955.08</td>\n",
       "      <td>Player10</td>\n",
       "      <td>NaN</td>\n",
       "      <td>39.22</td>\n",
       "      <td>8.16</td>\n",
       "      <td>NaN</td>\n",
       "      <td>NaN</td>\n",
       "      <td>49.251333</td>\n",
       "    </tr>\n",
       "    <tr>\n",
       "      <th>1115</th>\n",
       "      <td>Home</td>\n",
       "      <td>PASS</td>\n",
       "      <td>NaN</td>\n",
       "      <td>2</td>\n",
       "      <td>73902</td>\n",
       "      <td>2956.08</td>\n",
       "      <td>73923</td>\n",
       "      <td>2956.92</td>\n",
       "      <td>Player10</td>\n",
       "      <td>Player8</td>\n",
       "      <td>39.22</td>\n",
       "      <td>8.16</td>\n",
       "      <td>43.46</td>\n",
       "      <td>19.04</td>\n",
       "      <td>49.268000</td>\n",
       "    </tr>\n",
       "    <tr>\n",
       "      <th>1116</th>\n",
       "      <td>Home</td>\n",
       "      <td>PASS</td>\n",
       "      <td>CROSS</td>\n",
       "      <td>2</td>\n",
       "      <td>73955</td>\n",
       "      <td>2958.20</td>\n",
       "      <td>73983</td>\n",
       "      <td>2959.32</td>\n",
       "      <td>Player8</td>\n",
       "      <td>Player9</td>\n",
       "      <td>46.64</td>\n",
       "      <td>19.72</td>\n",
       "      <td>47.70</td>\n",
       "      <td>-1.36</td>\n",
       "      <td>49.303333</td>\n",
       "    </tr>\n",
       "    <tr>\n",
       "      <th>1117</th>\n",
       "      <td>Home</td>\n",
       "      <td>CHALLENGE</td>\n",
       "      <td>AERIAL-WON</td>\n",
       "      <td>2</td>\n",
       "      <td>73983</td>\n",
       "      <td>2959.32</td>\n",
       "      <td>73983</td>\n",
       "      <td>2959.32</td>\n",
       "      <td>Player9</td>\n",
       "      <td>NaN</td>\n",
       "      <td>47.70</td>\n",
       "      <td>-1.36</td>\n",
       "      <td>NaN</td>\n",
       "      <td>NaN</td>\n",
       "      <td>49.322000</td>\n",
       "    </tr>\n",
       "    <tr>\n",
       "      <th>1118</th>\n",
       "      <td>Home</td>\n",
       "      <td>SHOT</td>\n",
       "      <td>HEAD-ON TARGET-GOAL</td>\n",
       "      <td>2</td>\n",
       "      <td>73983</td>\n",
       "      <td>2959.32</td>\n",
       "      <td>73995</td>\n",
       "      <td>2959.80</td>\n",
       "      <td>Player9</td>\n",
       "      <td>NaN</td>\n",
       "      <td>47.70</td>\n",
       "      <td>-1.36</td>\n",
       "      <td>54.06</td>\n",
       "      <td>-2.04</td>\n",
       "      <td>49.322000</td>\n",
       "    </tr>\n",
       "  </tbody>\n",
       "</table>\n",
       "</div>"
      ],
      "text/plain": [
       "      Team       Type              Subtype  Period  Start Frame  \\\n",
       "1110  Home       PASS                  NaN       2        73692   \n",
       "1111  Home       PASS                  NaN       2        73813   \n",
       "1112  Home  CHALLENGE          TACKLE-LOST       2        73854   \n",
       "1113  Home  BALL LOST                THEFT       2        73854   \n",
       "1114  Home   RECOVERY         INTERCEPTION       2        73877   \n",
       "1115  Home       PASS                  NaN       2        73902   \n",
       "1116  Home       PASS                CROSS       2        73955   \n",
       "1117  Home  CHALLENGE           AERIAL-WON       2        73983   \n",
       "1118  Home       SHOT  HEAD-ON TARGET-GOAL       2        73983   \n",
       "\n",
       "      Start Time [s]  End Frame  End Time [s]      From       To  Start X  \\\n",
       "1110         2947.68      73731       2949.24   Player5  Player8     4.24   \n",
       "1111         2952.52      73844       2953.76   Player8  Player9    27.56   \n",
       "1112         2954.16      73854       2954.16   Player9      NaN    37.10   \n",
       "1113         2954.16      73854       2954.16   Player9      NaN    37.10   \n",
       "1114         2955.08      73877       2955.08  Player10      NaN    39.22   \n",
       "1115         2956.08      73923       2956.92  Player10  Player8    39.22   \n",
       "1116         2958.20      73983       2959.32   Player8  Player9    46.64   \n",
       "1117         2959.32      73983       2959.32   Player9      NaN    47.70   \n",
       "1118         2959.32      73995       2959.80   Player9      NaN    47.70   \n",
       "\n",
       "      Start Y  End X  End Y     Minute  \n",
       "1110     6.12  11.66  25.84  49.128000  \n",
       "1111    21.08  36.04   4.08  49.208667  \n",
       "1112     4.08    NaN    NaN  49.236000  \n",
       "1113     4.08    NaN    NaN  49.236000  \n",
       "1114     8.16    NaN    NaN  49.251333  \n",
       "1115     8.16  43.46  19.04  49.268000  \n",
       "1116    19.72  47.70  -1.36  49.303333  \n",
       "1117    -1.36    NaN    NaN  49.322000  \n",
       "1118    -1.36  54.06  -2.04  49.322000  "
      ]
     },
     "execution_count": 27,
     "metadata": {},
     "output_type": "execute_result"
    }
   ],
   "source": [
    "events.loc[1110:1118]"
   ]
  },
  {
   "cell_type": "code",
   "execution_count": 28,
   "metadata": {},
   "outputs": [
    {
     "data": {
      "text/plain": [
       "(<Figure size 864x576 with 1 Axes>,\n",
       " <matplotlib.axes._subplots.AxesSubplot at 0x1729aca8348>)"
      ]
     },
     "execution_count": 28,
     "metadata": {},
     "output_type": "execute_result"
    },
    {
     "data": {
      "image/png": "[encoded data removed]",
      "text/plain": [
       "<Figure size 864x576 with 1 Axes>"
      ]
     },
     "metadata": {},
     "output_type": "display_data"
    }
   ],
   "source": [
    "mviz.plot_events( events.loc[1115:1118], indicators = ['Marker', 'Arrow'], annotate = True)"
   ]
  },
  {
   "cell_type": "markdown",
   "metadata": {},
   "source": [
    "- Plot all the shots by Player 9 of the Home Team. Use different symbol and transparency for shots that resulted in goals."
   ]
  },
  {
   "cell_type": "code",
   "execution_count": 29,
   "metadata": {},
   "outputs": [],
   "source": [
    "player9_shots = shots[shots.From == 'Player9']"
   ]
  },
  {
   "cell_type": "code",
   "execution_count": 30,
   "metadata": {},
   "outputs": [
    {
     "data": {
      "text/html": [
       "<div>\n",
       "<style scoped>\n",
       "    .dataframe tbody tr th:only-of-type {\n",
       "        vertical-align: middle;\n",
       "    }\n",
       "\n",
       "    .dataframe tbody tr th {\n",
       "        vertical-align: top;\n",
       "    }\n",
       "\n",
       "    .dataframe thead th {\n",
       "        text-align: right;\n",
       "    }\n",
       "</style>\n",
       "<table border=\"1\" class=\"dataframe\">\n",
       "  <thead>\n",
       "    <tr style=\"text-align: right;\">\n",
       "      <th></th>\n",
       "      <th>Team</th>\n",
       "      <th>Type</th>\n",
       "      <th>Subtype</th>\n",
       "      <th>Period</th>\n",
       "      <th>Start Frame</th>\n",
       "      <th>Start Time [s]</th>\n",
       "      <th>End Frame</th>\n",
       "      <th>End Time [s]</th>\n",
       "      <th>From</th>\n",
       "      <th>To</th>\n",
       "      <th>Start X</th>\n",
       "      <th>Start Y</th>\n",
       "      <th>End X</th>\n",
       "      <th>End Y</th>\n",
       "      <th>Minute</th>\n",
       "    </tr>\n",
       "  </thead>\n",
       "  <tbody>\n",
       "    <tr>\n",
       "      <th>1118</th>\n",
       "      <td>Home</td>\n",
       "      <td>SHOT</td>\n",
       "      <td>HEAD-ON TARGET-GOAL</td>\n",
       "      <td>2</td>\n",
       "      <td>73983</td>\n",
       "      <td>2959.32</td>\n",
       "      <td>73995</td>\n",
       "      <td>2959.8</td>\n",
       "      <td>Player9</td>\n",
       "      <td>NaN</td>\n",
       "      <td>47.70</td>\n",
       "      <td>-1.36</td>\n",
       "      <td>54.06</td>\n",
       "      <td>-2.04</td>\n",
       "      <td>49.322000</td>\n",
       "    </tr>\n",
       "    <tr>\n",
       "      <th>1681</th>\n",
       "      <td>Home</td>\n",
       "      <td>SHOT</td>\n",
       "      <td>HEAD-OFF TARGET-OUT</td>\n",
       "      <td>2</td>\n",
       "      <td>117218</td>\n",
       "      <td>4688.72</td>\n",
       "      <td>117245</td>\n",
       "      <td>4689.8</td>\n",
       "      <td>Player9</td>\n",
       "      <td>NaN</td>\n",
       "      <td>41.34</td>\n",
       "      <td>-7.48</td>\n",
       "      <td>54.06</td>\n",
       "      <td>5.44</td>\n",
       "      <td>78.145333</td>\n",
       "    </tr>\n",
       "    <tr>\n",
       "      <th>1756</th>\n",
       "      <td>Home</td>\n",
       "      <td>SHOT</td>\n",
       "      <td>HEAD-OFF TARGET-OUT</td>\n",
       "      <td>2</td>\n",
       "      <td>124336</td>\n",
       "      <td>4973.44</td>\n",
       "      <td>124365</td>\n",
       "      <td>4974.6</td>\n",
       "      <td>Player9</td>\n",
       "      <td>NaN</td>\n",
       "      <td>45.58</td>\n",
       "      <td>-0.00</td>\n",
       "      <td>55.12</td>\n",
       "      <td>-7.48</td>\n",
       "      <td>82.890667</td>\n",
       "    </tr>\n",
       "    <tr>\n",
       "      <th>1927</th>\n",
       "      <td>Home</td>\n",
       "      <td>SHOT</td>\n",
       "      <td>ON TARGET-SAVED</td>\n",
       "      <td>2</td>\n",
       "      <td>139891</td>\n",
       "      <td>5595.64</td>\n",
       "      <td>139925</td>\n",
       "      <td>5597.0</td>\n",
       "      <td>Player9</td>\n",
       "      <td>NaN</td>\n",
       "      <td>21.20</td>\n",
       "      <td>-1.36</td>\n",
       "      <td>50.88</td>\n",
       "      <td>-1.36</td>\n",
       "      <td>93.260667</td>\n",
       "    </tr>\n",
       "  </tbody>\n",
       "</table>\n",
       "</div>"
      ],
      "text/plain": [
       "      Team  Type              Subtype  Period  Start Frame  Start Time [s]  \\\n",
       "1118  Home  SHOT  HEAD-ON TARGET-GOAL       2        73983         2959.32   \n",
       "1681  Home  SHOT  HEAD-OFF TARGET-OUT       2       117218         4688.72   \n",
       "1756  Home  SHOT  HEAD-OFF TARGET-OUT       2       124336         4973.44   \n",
       "1927  Home  SHOT      ON TARGET-SAVED       2       139891         5595.64   \n",
       "\n",
       "      End Frame  End Time [s]     From   To  Start X  Start Y  End X  End Y  \\\n",
       "1118      73995        2959.8  Player9  NaN    47.70    -1.36  54.06  -2.04   \n",
       "1681     117245        4689.8  Player9  NaN    41.34    -7.48  54.06   5.44   \n",
       "1756     124365        4974.6  Player9  NaN    45.58    -0.00  55.12  -7.48   \n",
       "1927     139925        5597.0  Player9  NaN    21.20    -1.36  50.88  -1.36   \n",
       "\n",
       "         Minute  \n",
       "1118  49.322000  \n",
       "1681  78.145333  \n",
       "1756  82.890667  \n",
       "1927  93.260667  "
      ]
     },
     "execution_count": 30,
     "metadata": {},
     "output_type": "execute_result"
    }
   ],
   "source": [
    "player9_shots"
   ]
  },
  {
   "cell_type": "code",
   "execution_count": 33,
   "metadata": {},
   "outputs": [
    {
     "data": {
      "image/png": "[encoded data removed]",
      "text/plain": [
       "<Figure size 864x576 with 1 Axes>"
      ]
     },
     "metadata": {},
     "output_type": "display_data"
    }
   ],
   "source": [
    "fig, ax = mviz.plot_pitch()\n",
    "for i, shot in player9_shots.iterrows():\n",
    "    x, y = shot['Start X'], shot['Start Y']\n",
    "    dx, dy = shot['End X'], shot['End Y']\n",
    "    if 'GOAL' in shot['Subtype']:\n",
    "        ax.plot(x,y,'ro',alpha = 1)\n",
    "        ax.annotate(\"\",xy = [dx,dy],xytext = [x,y], arrowprops=dict(arrowstyle=\"->\",color='r'))\n",
    "    else:\n",
    "        ax.plot(x,y,'yx',color='yellow', alpha = 0.7)\n",
    "        ax.annotate(\"\",xy = [dx,dy],xytext = [x,y],arrowprops=dict(arrowstyle=\"->\",color='yellow', alpha=0.5))"
   ]
  },
  {
   "cell_type": "markdown",
   "metadata": {},
   "source": [
    "- Plot the positions of all players at Players 9's goal"
   ]
  },
  {
   "cell_type": "code",
   "execution_count": 41,
   "metadata": {},
   "outputs": [
    {
     "data": {
      "image/png": "[encoded data removed]",
      "text/plain": [
       "<Figure size 864x576 with 1 Axes>"
      ]
     },
     "metadata": {},
     "output_type": "display_data"
    }
   ],
   "source": [
    "fig, ax = mviz.plot_events(events.loc[1118:1118],indicators = ['Marker', 'Arrow'], annotate = True, alpha=1)\n",
    "frame = events.loc[1118]['Start Frame']\n",
    "fig, ax = mviz.plot_frame(tracking_home.loc[frame],tracking_away.loc[frame], figax=(fig,ax))"
   ]
  },
  {
   "cell_type": "markdown",
   "metadata": {},
   "source": [
    "- Calculate how far each player ran"
   ]
  },
  {
   "cell_type": "code",
   "execution_count": 95,
   "metadata": {},
   "outputs": [],
   "source": [
    "home_distance = {'1':0,'2':0,'3':0,'4':0,'5':0,'6':0,'7':0,'8':0,'9':0,'10':0,'11':0, '12':0, '13':0,'14':0}"
   ]
  },
  {
   "cell_type": "code",
   "execution_count": 94,
   "metadata": {},
   "outputs": [],
   "source": [
    "from scipy.spatial import distance\n",
    "import math\n",
    "def distance_euc(start_x, start_y, end_x, end_y):\n",
    "    if math.isnan(start_x) is True:\n",
    "        return 0\n",
    "    if math.isnan(end_x) is True:\n",
    "        return 0\n",
    "    else:\n",
    "        return distance.euclidean((start_x,start_y),(end_x,end_y))"
   ]
  },
  {
   "cell_type": "code",
   "execution_count": 63,
   "metadata": {},
   "outputs": [
    {
     "data": {
      "text/html": [
       "<div>\n",
       "<style scoped>\n",
       "    .dataframe tbody tr th:only-of-type {\n",
       "        vertical-align: middle;\n",
       "    }\n",
       "\n",
       "    .dataframe tbody tr th {\n",
       "        vertical-align: top;\n",
       "    }\n",
       "\n",
       "    .dataframe thead th {\n",
       "        text-align: right;\n",
       "    }\n",
       "</style>\n",
       "<table border=\"1\" class=\"dataframe\">\n",
       "  <thead>\n",
       "    <tr style=\"text-align: right;\">\n",
       "      <th></th>\n",
       "      <th>Period</th>\n",
       "      <th>Time [s]</th>\n",
       "      <th>Home_11_x</th>\n",
       "      <th>Home_11_y</th>\n",
       "      <th>Home_1_x</th>\n",
       "      <th>Home_1_y</th>\n",
       "      <th>Home_2_x</th>\n",
       "      <th>Home_2_y</th>\n",
       "      <th>Home_3_x</th>\n",
       "      <th>Home_3_y</th>\n",
       "      <th>...</th>\n",
       "      <th>Home_10_x</th>\n",
       "      <th>Home_10_y</th>\n",
       "      <th>Home_12_x</th>\n",
       "      <th>Home_12_y</th>\n",
       "      <th>Home_13_x</th>\n",
       "      <th>Home_13_y</th>\n",
       "      <th>Home_14_x</th>\n",
       "      <th>Home_14_y</th>\n",
       "      <th>ball_x</th>\n",
       "      <th>ball_y</th>\n",
       "    </tr>\n",
       "    <tr>\n",
       "      <th>Frame</th>\n",
       "      <th></th>\n",
       "      <th></th>\n",
       "      <th></th>\n",
       "      <th></th>\n",
       "      <th></th>\n",
       "      <th></th>\n",
       "      <th></th>\n",
       "      <th></th>\n",
       "      <th></th>\n",
       "      <th></th>\n",
       "      <th></th>\n",
       "      <th></th>\n",
       "      <th></th>\n",
       "      <th></th>\n",
       "      <th></th>\n",
       "      <th></th>\n",
       "      <th></th>\n",
       "      <th></th>\n",
       "      <th></th>\n",
       "      <th></th>\n",
       "      <th></th>\n",
       "    </tr>\n",
       "  </thead>\n",
       "  <tbody>\n",
       "    <tr>\n",
       "      <th>1</th>\n",
       "      <td>1</td>\n",
       "      <td>0.04</td>\n",
       "      <td>46.9315</td>\n",
       "      <td>-0.28084</td>\n",
       "      <td>15.70072</td>\n",
       "      <td>14.5486</td>\n",
       "      <td>18.81712</td>\n",
       "      <td>4.89396</td>\n",
       "      <td>21.07492</td>\n",
       "      <td>-3.81208</td>\n",
       "      <td>...</td>\n",
       "      <td>0.20564</td>\n",
       "      <td>-7.56364</td>\n",
       "      <td>NaN</td>\n",
       "      <td>NaN</td>\n",
       "      <td>NaN</td>\n",
       "      <td>NaN</td>\n",
       "      <td>NaN</td>\n",
       "      <td>NaN</td>\n",
       "      <td>NaN</td>\n",
       "      <td>NaN</td>\n",
       "    </tr>\n",
       "    <tr>\n",
       "      <th>2</th>\n",
       "      <td>1</td>\n",
       "      <td>0.08</td>\n",
       "      <td>46.9315</td>\n",
       "      <td>-0.28084</td>\n",
       "      <td>15.70072</td>\n",
       "      <td>14.5486</td>\n",
       "      <td>18.81712</td>\n",
       "      <td>4.89396</td>\n",
       "      <td>21.07492</td>\n",
       "      <td>-3.81208</td>\n",
       "      <td>...</td>\n",
       "      <td>0.20564</td>\n",
       "      <td>-7.56364</td>\n",
       "      <td>NaN</td>\n",
       "      <td>NaN</td>\n",
       "      <td>NaN</td>\n",
       "      <td>NaN</td>\n",
       "      <td>NaN</td>\n",
       "      <td>NaN</td>\n",
       "      <td>NaN</td>\n",
       "      <td>NaN</td>\n",
       "    </tr>\n",
       "    <tr>\n",
       "      <th>3</th>\n",
       "      <td>1</td>\n",
       "      <td>0.12</td>\n",
       "      <td>46.9315</td>\n",
       "      <td>-0.28084</td>\n",
       "      <td>15.70072</td>\n",
       "      <td>14.5486</td>\n",
       "      <td>18.81712</td>\n",
       "      <td>4.89396</td>\n",
       "      <td>21.07492</td>\n",
       "      <td>-3.81208</td>\n",
       "      <td>...</td>\n",
       "      <td>0.20564</td>\n",
       "      <td>-7.56364</td>\n",
       "      <td>NaN</td>\n",
       "      <td>NaN</td>\n",
       "      <td>NaN</td>\n",
       "      <td>NaN</td>\n",
       "      <td>NaN</td>\n",
       "      <td>NaN</td>\n",
       "      <td>NaN</td>\n",
       "      <td>NaN</td>\n",
       "    </tr>\n",
       "  </tbody>\n",
       "</table>\n",
       "<p>3 rows × 32 columns</p>\n",
       "</div>"
      ],
      "text/plain": [
       "       Period  Time [s]  Home_11_x  Home_11_y  Home_1_x  Home_1_y  Home_2_x  \\\n",
       "Frame                                                                         \n",
       "1           1      0.04    46.9315   -0.28084  15.70072   14.5486  18.81712   \n",
       "2           1      0.08    46.9315   -0.28084  15.70072   14.5486  18.81712   \n",
       "3           1      0.12    46.9315   -0.28084  15.70072   14.5486  18.81712   \n",
       "\n",
       "       Home_2_y  Home_3_x  Home_3_y  ...  Home_10_x  Home_10_y  Home_12_x  \\\n",
       "Frame                                ...                                    \n",
       "1       4.89396  21.07492  -3.81208  ...    0.20564   -7.56364        NaN   \n",
       "2       4.89396  21.07492  -3.81208  ...    0.20564   -7.56364        NaN   \n",
       "3       4.89396  21.07492  -3.81208  ...    0.20564   -7.56364        NaN   \n",
       "\n",
       "       Home_12_y  Home_13_x  Home_13_y  Home_14_x  Home_14_y  ball_x  ball_y  \n",
       "Frame                                                                         \n",
       "1            NaN        NaN        NaN        NaN        NaN     NaN     NaN  \n",
       "2            NaN        NaN        NaN        NaN        NaN     NaN     NaN  \n",
       "3            NaN        NaN        NaN        NaN        NaN     NaN     NaN  \n",
       "\n",
       "[3 rows x 32 columns]"
      ]
     },
     "execution_count": 63,
     "metadata": {},
     "output_type": "execute_result"
    }
   ],
   "source": [
    "tracking_home.head(3)"
   ]
  },
  {
   "cell_type": "code",
   "execution_count": 96,
   "metadata": {},
   "outputs": [],
   "source": [
    "row_iterator = tracking_home.iterrows()\n",
    "_, last = row_iterator.__next__()\n",
    "for i, row in row_iterator: #max is 141156 \n",
    "    for key,value in home_distance.items():\n",
    "        start_x = row['Home_'+key+'_x']\n",
    "        start_y = row['Home_'+key+'_y']\n",
    "        end_x = last['Home_'+key+'_x']\n",
    "        end_y = last['Home_'+key+'_y']\n",
    "        home_distance[key]= home_distance[key]+distance_euc(start_x,start_y,end_x,end_y)\n",
    "    last = row"
   ]
  },
  {
   "cell_type": "code",
   "execution_count": 121,
   "metadata": {},
   "outputs": [],
   "source": [
    "df = pd.DataFrame.from_dict(home_distance, orient = 'index')\n",
    "df.columns = ['Distance(m)']\n",
    "df['Distance(km)'] = df['Distance(m)']/1000"
   ]
  },
  {
   "cell_type": "code",
   "execution_count": 125,
   "metadata": {},
   "outputs": [
    {
     "data": {
      "text/html": [
       "<div>\n",
       "<style scoped>\n",
       "    .dataframe tbody tr th:only-of-type {\n",
       "        vertical-align: middle;\n",
       "    }\n",
       "\n",
       "    .dataframe tbody tr th {\n",
       "        vertical-align: top;\n",
       "    }\n",
       "\n",
       "    .dataframe thead th {\n",
       "        text-align: right;\n",
       "    }\n",
       "</style>\n",
       "<table border=\"1\" class=\"dataframe\">\n",
       "  <thead>\n",
       "    <tr style=\"text-align: right;\">\n",
       "      <th></th>\n",
       "      <th>Distance(m)</th>\n",
       "      <th>Distance(km)</th>\n",
       "    </tr>\n",
       "  </thead>\n",
       "  <tbody>\n",
       "    <tr>\n",
       "      <th>1</th>\n",
       "      <td>10435.910546</td>\n",
       "      <td>10.435911</td>\n",
       "    </tr>\n",
       "    <tr>\n",
       "      <th>2</th>\n",
       "      <td>9991.684623</td>\n",
       "      <td>9.991685</td>\n",
       "    </tr>\n",
       "    <tr>\n",
       "      <th>3</th>\n",
       "      <td>9631.355462</td>\n",
       "      <td>9.631355</td>\n",
       "    </tr>\n",
       "    <tr>\n",
       "      <th>4</th>\n",
       "      <td>7321.092038</td>\n",
       "      <td>7.321092</td>\n",
       "    </tr>\n",
       "    <tr>\n",
       "      <th>5</th>\n",
       "      <td>12242.253654</td>\n",
       "      <td>12.242254</td>\n",
       "    </tr>\n",
       "    <tr>\n",
       "      <th>6</th>\n",
       "      <td>11608.051710</td>\n",
       "      <td>11.608052</td>\n",
       "    </tr>\n",
       "    <tr>\n",
       "      <th>7</th>\n",
       "      <td>11298.449736</td>\n",
       "      <td>11.298450</td>\n",
       "    </tr>\n",
       "    <tr>\n",
       "      <th>8</th>\n",
       "      <td>9113.617593</td>\n",
       "      <td>9.113618</td>\n",
       "    </tr>\n",
       "    <tr>\n",
       "      <th>9</th>\n",
       "      <td>9856.172043</td>\n",
       "      <td>9.856172</td>\n",
       "    </tr>\n",
       "    <tr>\n",
       "      <th>10</th>\n",
       "      <td>9098.232198</td>\n",
       "      <td>9.098232</td>\n",
       "    </tr>\n",
       "    <tr>\n",
       "      <th>11</th>\n",
       "      <td>5328.749976</td>\n",
       "      <td>5.328750</td>\n",
       "    </tr>\n",
       "    <tr>\n",
       "      <th>12</th>\n",
       "      <td>3092.069800</td>\n",
       "      <td>3.092070</td>\n",
       "    </tr>\n",
       "    <tr>\n",
       "      <th>13</th>\n",
       "      <td>2395.689321</td>\n",
       "      <td>2.395689</td>\n",
       "    </tr>\n",
       "    <tr>\n",
       "      <th>14</th>\n",
       "      <td>1092.924888</td>\n",
       "      <td>1.092925</td>\n",
       "    </tr>\n",
       "  </tbody>\n",
       "</table>\n",
       "</div>"
      ],
      "text/plain": [
       "     Distance(m)  Distance(km)\n",
       "1   10435.910546     10.435911\n",
       "2    9991.684623      9.991685\n",
       "3    9631.355462      9.631355\n",
       "4    7321.092038      7.321092\n",
       "5   12242.253654     12.242254\n",
       "6   11608.051710     11.608052\n",
       "7   11298.449736     11.298450\n",
       "8    9113.617593      9.113618\n",
       "9    9856.172043      9.856172\n",
       "10   9098.232198      9.098232\n",
       "11   5328.749976      5.328750\n",
       "12   3092.069800      3.092070\n",
       "13   2395.689321      2.395689\n",
       "14   1092.924888      1.092925"
      ]
     },
     "execution_count": 125,
     "metadata": {},
     "output_type": "execute_result"
    }
   ],
   "source": [
    "df"
   ]
  }
 ],
 "metadata": {
  "kernelspec": {
   "display_name": "Python 3",
   "language": "python",
   "name": "python3"
  },
  "language_info": {
   "codemirror_mode": {
    "name": "ipython",
    "version": 3
   },
   "file_extension": ".py",
   "mimetype": "text/x-python",
   "name": "python",
   "nbconvert_exporter": "python",
   "pygments_lexer": "ipython3",
   "version": "3.7.6"
  },
  "varInspector": {
   "cols": {
    "lenName": 16,
    "lenType": 16,
    "lenVar": 40
   },
   "kernels_config": {
    "python": {
     "delete_cmd_postfix": "",
     "delete_cmd_prefix": "del ",
     "library": "var_list.py",
     "varRefreshCmd": "print(var_dic_list())"
    },
    "r": {
     "delete_cmd_postfix": ") ",
     "delete_cmd_prefix": "rm(",
     "library": "var_list.r",
     "varRefreshCmd": "cat(var_dic_list()) "
    }
   },
   "position": {
    "height": "376.667px",
    "left": "566px",
    "right": "20px",
    "top": "92px",
    "width": "597.667px"
   },
   "types_to_exclude": [
    "module",
    "function",
    "builtin_function_or_method",
    "instance",
    "_Feature"
   ],
   "window_display": false
  }
 },
 "nbformat": 4,
 "nbformat_minor": 4
}
